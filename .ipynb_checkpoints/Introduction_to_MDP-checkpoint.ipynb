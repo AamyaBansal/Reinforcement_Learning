{
 "cells": [
  {
   "cell_type": "markdown",
   "id": "e591f702-4ffb-4ab9-823c-444ec88d2c7a",
   "metadata": {},
   "source": [
    "A code introduction to the Markov Decision Process\n",
    "Aamya Bansal\n",
    "AI/ML A1\n",
    "21070126004"
   ]
  },
  {
   "cell_type": "code",
   "execution_count": 1,
   "id": "90417c56-eb00-49b3-8f76-5b35d972a6af",
   "metadata": {},
   "outputs": [],
   "source": [
    "import gym#belongs to OpenAI it is a toolkit for developing and comparing reinforcement learning algorithms. \n",
    "import numpy as np\n",
    "from IPython import display #quality of image basically provides tools for displaying better media output\n",
    "from matplotlib import pyplot as plt\n",
    "\n",
    "from envs import Maze\n",
    "%matplotlib inline"
   ]
  },
  {
   "cell_type": "code",
   "execution_count": 2,
   "id": "c5603ee4-63b3-4370-bf9a-940e4e33cba4",
   "metadata": {},
   "outputs": [],
   "source": [
    "env=Maze() # It would contain details about the maze structure and what rewards and penalties will be present in env."
   ]
  },
  {
   "cell_type": "code",
   "execution_count": 3,
   "id": "856e84a4-77ac-40a0-bd53-77cd325448eb",
   "metadata": {},
   "outputs": [
    {
     "name": "stdout",
     "output_type": "stream",
     "text": [
      "The new episode will start in state:(0, 0)\n"
     ]
    }
   ],
   "source": [
    "initial_state= env.reset()#this places the env in initial state starting at (0,0)\n",
    "print(f\"The new episode will start in state:{initial_state}\")"
   ]
  },
  {
   "cell_type": "code",
   "execution_count": 4,
   "id": "df80ab0f-e99b-4d30-826e-4954df242422",
   "metadata": {},
   "outputs": [
    {
     "data": {
      "text/plain": [
       "<matplotlib.image.AxesImage at 0x1ebbcdc2ee0>"
      ]
     },
     "execution_count": 4,
     "metadata": {},
     "output_type": "execute_result"
    },
    {
     "data": {
      "image/png": "[encoded data removed]",
      "text/plain": [
       "<Figure size 640x480 with 1 Axes>"
      ]
     },
     "metadata": {},
     "output_type": "display_data"
    }
   ],
   "source": [
    "frame= env.render(mode=\"rgb_array\")#env.render helps to print the image of the environment and the rgb_array convert this image data into an numpy array in the form of rgb\n",
    "plt.axis(\"off\")\n",
    "plt.title(f\"State: {initial_state}\")\n",
    "plt.imshow(frame)#visualizing the image"
   ]
  },
  {
   "cell_type": "code",
   "execution_count": 11,
   "id": "54668e5b-6c79-4b10-9303-309cbfdfcfea",
   "metadata": {},
   "outputs": [
    {
     "name": "stdout",
     "output_type": "stream",
     "text": [
      "After moving down 1 row, the agent is in state: (4, 0)\n",
      "After moving down 1 row, we got a reward of: -1.0\n",
      "After moving down 1 row, the task is not finished\n"
     ]
    }
   ],
   "source": [
    "action =2#moving down\n",
    "next_state, reward, done,info =env.step(action)\n",
    "#the above line takes an action input and works on it giving an value of what the next_state is \n",
    "#what the reward is if the task is finished  and info provides an dictionary which tells a little bit about the action taken\n",
    "print(f\"After moving down 1 row, the agent is in state: {next_state}\")\n",
    "print(f\"After moving down 1 row, we got a reward of: {reward}\")\n",
    "print(\"After moving down 1 row, the task is\", \"\" if done else \"not\",\"finished\")"
   ]
  },
  {
   "cell_type": "code",
   "execution_count": 12,
   "id": "4d90fa72-adcb-468c-b727-fb34c4f85fc5",
   "metadata": {},
   "outputs": [
    {
     "data": {
      "text/plain": [
       "<matplotlib.image.AxesImage at 0x1ebbd328820>"
      ]
     },
     "execution_count": 12,
     "metadata": {},
     "output_type": "execute_result"
    },
    {
     "data": {
      "image/png": "[encoded data removed]",
      "text/plain": [
       "<Figure size 640x480 with 1 Axes>"
      ]
     },
     "metadata": {},
     "output_type": "display_data"
    }
   ],
   "source": [
    "frame= env.render(mode=\"rgb_array\")#env.render helps to print the image of the environment and the rgb_array convert this image data into an numpy array again performing the same task for better understanding\n",
    "plt.axis(\"off\")\n",
    "plt.title(f\"State: {next_state}\")\n",
    "plt.imshow(frame)"
   ]
  },
  {
   "cell_type": "code",
   "execution_count": 13,
   "id": "b98d7dc8-f44d-4caf-b7dd-74c7ee7bac49",
   "metadata": {},
   "outputs": [],
   "source": [
    "env.close()#this is used to end the session with the environment, it deallocates the memory and disconnects the connect with databses"
   ]
  },
  {
   "cell_type": "code",
   "execution_count": 14,
   "id": "b6ea9883-4a08-4fd2-9ec0-433f233f40c0",
   "metadata": {},
   "outputs": [],
   "source": [
    "env= Maze()"
   ]
  },
  {
   "cell_type": "code",
   "execution_count": 15,
   "id": "0d111a2c-97a8-4fcc-a4dd-88e0e91a4de9",
   "metadata": {},
   "outputs": [
    {
     "name": "stdout",
     "output_type": "stream",
     "text": [
      "For example, the initial state is: (0, 0)\n",
      "The space state is of type: MultiDiscrete([5 5])\n"
     ]
    }
   ],
   "source": [
    "print(f\"For example, the initial state is: {env.reset()}\")\n",
    "print(f\"The space state is of type: {env.observation_space}\")#this describes the possible value of observations which an agent can take"
   ]
  },
  {
   "cell_type": "markdown",
   "id": "b73c6682-6fa1-4097-ac82-ef499ff2b812",
   "metadata": {},
   "source": [
    "Here actions are of 4 types \n",
    "0 means move up\r\n",
    " means> move right\r\n",
    "means-> move down\r",
    "means -> move left"
   ]
  },
  {
   "cell_type": "code",
   "execution_count": 16,
   "id": "b5ef8c15-3f60-48ef-87ec-1c3711beb051",
   "metadata": {},
   "outputs": [
    {
     "name": "stdout",
     "output_type": "stream",
     "text": [
      "An example of a valid action is: 0\n",
      "The action state is of type: Discrete(4)\n"
     ]
    }
   ],
   "source": [
    "print(f\"An example of a valid action is: {env.action_space.sample()}\")#selecting a random action from the list of actions\n",
    "print(f\"The action state is of type: {env.action_space}\")#no. of actions which can be taken by the agent\n"
   ]
  },
  {
   "cell_type": "code",
   "execution_count": 17,
   "id": "907378c2-6f71-4704-9452-32a3cf6bf3aa",
   "metadata": {},
   "outputs": [
    {
     "name": "stdout",
     "output_type": "stream",
     "text": [
      "Generated trajectory:\n",
      "[[(0, 0), 3, -1.0, False, (0, 0)], [(0, 0), 1, -1.0, False, (0, 1)], [(0, 1), 3, -1.0, False, (0, 0)]]\n"
     ]
    }
   ],
   "source": [
    "env = Maze()\n",
    "state = env.reset()\n",
    "trajectory = []#empty list\n",
    "for _ in range(3):#we ran the loop 3 times in which our agent took a random action\n",
    "    action = env.action_space.sample()\n",
    "    next_state, reward, done, extra_info = env.step(action)\n",
    "    trajectory.append([state, action, reward, done, next_state])\n",
    "    #and provides us with it's current state,the action it choose,the reward it recieved,if it reached its destination and the next state it reached\n",
    "    state = next_state\n",
    "env.close()\n",
    "\n",
    "print(f\"Generated trajectory:\\n{trajectory}\")"
   ]
  },
  {
   "cell_type": "markdown",
   "id": "92b1114b-39f1-4f4a-9305-aa52d28ad0ec",
   "metadata": {},
   "source": [
    "Our goal here is to reach (4,4)"
   ]
  },
  {
   "cell_type": "code",
   "execution_count": 18,
   "id": "42d05341-0980-4da0-9218-c8a7173b056d",
   "metadata": {},
   "outputs": [
    {
     "name": "stdout",
     "output_type": "stream",
     "text": [
      "COngrats! You just generated your first episode: \n",
      "[[(0, 0), 0, -1.0, False, (0, 0)], [(0, 0), 1, -1.0, False, (0, 1)], [(0, 1), 2, -1.0, False, (1, 1)], [(1, 1), 1, -1.0, False, (1, 1)], [(1, 1), 0, -1.0, False, (0, 1)], [(0, 1), 1, -1.0, False, (0, 2)], [(0, 2), 1, -1.0, False, (0, 3)], [(0, 3), 0, -1.0, False, (0, 3)], [(0, 3), 2, -1.0, False, (1, 3)], [(1, 3), 2, -1.0, False, (2, 3)], [(2, 3), 2, -1.0, False, (2, 3)], [(2, 3), 1, -1.0, False, (2, 3)], [(2, 3), 2, -1.0, False, (2, 3)], [(2, 3), 2, -1.0, False, (2, 3)], [(2, 3), 0, -1.0, False, (1, 3)], [(1, 3), 3, -1.0, False, (1, 3)], [(1, 3), 1, -1.0, False, (1, 3)], [(1, 3), 3, -1.0, False, (1, 3)], [(1, 3), 1, -1.0, False, (1, 3)], [(1, 3), 3, -1.0, False, (1, 3)], [(1, 3), 2, -1.0, False, (2, 3)], [(2, 3), 3, -1.0, False, (2, 2)], [(2, 2), 3, -1.0, False, (2, 2)], [(2, 2), 3, -1.0, False, (2, 2)], [(2, 2), 1, -1.0, False, (2, 3)], [(2, 3), 2, -1.0, False, (2, 3)], [(2, 3), 3, -1.0, False, (2, 2)], [(2, 2), 2, -1.0, False, (2, 2)], [(2, 2), 0, -1.0, False, (1, 2)], [(1, 2), 1, -1.0, False, (1, 2)], [(1, 2), 0, -1.0, False, (1, 2)], [(1, 2), 0, -1.0, False, (1, 2)], [(1, 2), 2, -1.0, False, (2, 2)], [(2, 2), 3, -1.0, False, (2, 2)], [(2, 2), 1, -1.0, False, (2, 3)], [(2, 3), 1, -1.0, False, (2, 3)], [(2, 3), 0, -1.0, False, (1, 3)], [(1, 3), 3, -1.0, False, (1, 3)], [(1, 3), 3, -1.0, False, (1, 3)], [(1, 3), 3, -1.0, False, (1, 3)], [(1, 3), 3, -1.0, False, (1, 3)], [(1, 3), 1, -1.0, False, (1, 3)], [(1, 3), 3, -1.0, False, (1, 3)], [(1, 3), 3, -1.0, False, (1, 3)], [(1, 3), 0, -1.0, False, (0, 3)], [(0, 3), 0, -1.0, False, (0, 3)], [(0, 3), 2, -1.0, False, (1, 3)], [(1, 3), 2, -1.0, False, (2, 3)], [(2, 3), 3, -1.0, False, (2, 2)], [(2, 2), 3, -1.0, False, (2, 2)], [(2, 2), 3, -1.0, False, (2, 2)], [(2, 2), 0, -1.0, False, (1, 2)], [(1, 2), 0, -1.0, False, (1, 2)], [(1, 2), 2, -1.0, False, (2, 2)], [(2, 2), 1, -1.0, False, (2, 3)], [(2, 3), 0, -1.0, False, (1, 3)], [(1, 3), 0, -1.0, False, (0, 3)], [(0, 3), 3, -1.0, False, (0, 2)], [(0, 2), 0, -1.0, False, (0, 2)], [(0, 2), 0, -1.0, False, (0, 2)], [(0, 2), 0, -1.0, False, (0, 2)], [(0, 2), 2, -1.0, False, (0, 2)], [(0, 2), 3, -1.0, False, (0, 1)], [(0, 1), 0, -1.0, False, (0, 1)], [(0, 1), 1, -1.0, False, (0, 2)], [(0, 2), 2, -1.0, False, (0, 2)], [(0, 2), 1, -1.0, False, (0, 3)], [(0, 3), 2, -1.0, False, (1, 3)], [(1, 3), 1, -1.0, False, (1, 3)], [(1, 3), 2, -1.0, False, (2, 3)], [(2, 3), 2, -1.0, False, (2, 3)], [(2, 3), 3, -1.0, False, (2, 2)], [(2, 2), 0, -1.0, False, (1, 2)], [(1, 2), 3, -1.0, False, (1, 2)], [(1, 2), 2, -1.0, False, (2, 2)], [(2, 2), 2, -1.0, False, (2, 2)], [(2, 2), 0, -1.0, False, (1, 2)], [(1, 2), 2, -1.0, False, (2, 2)], [(2, 2), 2, -1.0, False, (2, 2)], [(2, 2), 3, -1.0, False, (2, 2)], [(2, 2), 0, -1.0, False, (1, 2)], [(1, 2), 2, -1.0, False, (2, 2)], [(2, 2), 2, -1.0, False, (2, 2)], [(2, 2), 3, -1.0, False, (2, 2)], [(2, 2), 1, -1.0, False, (2, 3)], [(2, 3), 0, -1.0, False, (1, 3)], [(1, 3), 0, -1.0, False, (0, 3)], [(0, 3), 0, -1.0, False, (0, 3)], [(0, 3), 0, -1.0, False, (0, 3)], [(0, 3), 1, -1.0, False, (0, 4)], [(0, 4), 3, -1.0, False, (0, 3)], [(0, 3), 2, -1.0, False, (1, 3)], [(1, 3), 0, -1.0, False, (0, 3)], [(0, 3), 0, -1.0, False, (0, 3)], [(0, 3), 2, -1.0, False, (1, 3)], [(1, 3), 3, -1.0, False, (1, 3)], [(1, 3), 3, -1.0, False, (1, 3)], [(1, 3), 0, -1.0, False, (0, 3)], [(0, 3), 2, -1.0, False, (1, 3)], [(1, 3), 1, -1.0, False, (1, 3)], [(1, 3), 0, -1.0, False, (0, 3)], [(0, 3), 3, -1.0, False, (0, 2)], [(0, 2), 3, -1.0, False, (0, 1)], [(0, 1), 0, -1.0, False, (0, 1)], [(0, 1), 3, -1.0, False, (0, 0)], [(0, 0), 1, -1.0, False, (0, 1)], [(0, 1), 3, -1.0, False, (0, 0)], [(0, 0), 3, -1.0, False, (0, 0)], [(0, 0), 2, -1.0, False, (1, 0)], [(1, 0), 0, -1.0, False, (0, 0)], [(0, 0), 1, -1.0, False, (0, 1)], [(0, 1), 1, -1.0, False, (0, 2)], [(0, 2), 1, -1.0, False, (0, 3)], [(0, 3), 1, -1.0, False, (0, 4)], [(0, 4), 1, -1.0, False, (0, 4)], [(0, 4), 0, -1.0, False, (0, 4)], [(0, 4), 3, -1.0, False, (0, 3)], [(0, 3), 3, -1.0, False, (0, 2)], [(0, 2), 2, -1.0, False, (0, 2)], [(0, 2), 2, -1.0, False, (0, 2)], [(0, 2), 3, -1.0, False, (0, 1)], [(0, 1), 0, -1.0, False, (0, 1)], [(0, 1), 0, -1.0, False, (0, 1)], [(0, 1), 3, -1.0, False, (0, 0)], [(0, 0), 0, -1.0, False, (0, 0)], [(0, 0), 0, -1.0, False, (0, 0)], [(0, 0), 3, -1.0, False, (0, 0)], [(0, 0), 1, -1.0, False, (0, 1)], [(0, 1), 1, -1.0, False, (0, 2)], [(0, 2), 1, -1.0, False, (0, 3)], [(0, 3), 3, -1.0, False, (0, 2)], [(0, 2), 0, -1.0, False, (0, 2)], [(0, 2), 3, -1.0, False, (0, 1)], [(0, 1), 0, -1.0, False, (0, 1)], [(0, 1), 1, -1.0, False, (0, 2)], [(0, 2), 0, -1.0, False, (0, 2)], [(0, 2), 1, -1.0, False, (0, 3)], [(0, 3), 1, -1.0, False, (0, 4)], [(0, 4), 1, -1.0, False, (0, 4)], [(0, 4), 2, -1.0, False, (1, 4)], [(1, 4), 1, -1.0, False, (1, 4)], [(1, 4), 2, -1.0, False, (2, 4)], [(2, 4), 0, -1.0, False, (1, 4)], [(1, 4), 0, -1.0, False, (0, 4)], [(0, 4), 1, -1.0, False, (0, 4)], [(0, 4), 2, -1.0, False, (1, 4)], [(1, 4), 2, -1.0, False, (2, 4)], [(2, 4), 3, -1.0, False, (2, 4)], [(2, 4), 1, -1.0, False, (2, 4)], [(2, 4), 0, -1.0, False, (1, 4)], [(1, 4), 1, -1.0, False, (1, 4)], [(1, 4), 0, -1.0, False, (0, 4)], [(0, 4), 3, -1.0, False, (0, 3)], [(0, 3), 2, -1.0, False, (1, 3)], [(1, 3), 0, -1.0, False, (0, 3)], [(0, 3), 2, -1.0, False, (1, 3)], [(1, 3), 2, -1.0, False, (2, 3)], [(2, 3), 2, -1.0, False, (2, 3)], [(2, 3), 1, -1.0, False, (2, 3)], [(2, 3), 2, -1.0, False, (2, 3)], [(2, 3), 0, -1.0, False, (1, 3)], [(1, 3), 2, -1.0, False, (2, 3)], [(2, 3), 0, -1.0, False, (1, 3)], [(1, 3), 2, -1.0, False, (2, 3)], [(2, 3), 1, -1.0, False, (2, 3)], [(2, 3), 2, -1.0, False, (2, 3)], [(2, 3), 1, -1.0, False, (2, 3)], [(2, 3), 1, -1.0, False, (2, 3)], [(2, 3), 1, -1.0, False, (2, 3)], [(2, 3), 0, -1.0, False, (1, 3)], [(1, 3), 3, -1.0, False, (1, 3)], [(1, 3), 1, -1.0, False, (1, 3)], [(1, 3), 1, -1.0, False, (1, 3)], [(1, 3), 2, -1.0, False, (2, 3)], [(2, 3), 3, -1.0, False, (2, 2)], [(2, 2), 2, -1.0, False, (2, 2)], [(2, 2), 2, -1.0, False, (2, 2)], [(2, 2), 1, -1.0, False, (2, 3)], [(2, 3), 0, -1.0, False, (1, 3)], [(1, 3), 2, -1.0, False, (2, 3)], [(2, 3), 2, -1.0, False, (2, 3)], [(2, 3), 1, -1.0, False, (2, 3)], [(2, 3), 3, -1.0, False, (2, 2)], [(2, 2), 1, -1.0, False, (2, 3)], [(2, 3), 0, -1.0, False, (1, 3)], [(1, 3), 0, -1.0, False, (0, 3)], [(0, 3), 1, -1.0, False, (0, 4)], [(0, 4), 0, -1.0, False, (0, 4)], [(0, 4), 1, -1.0, False, (0, 4)], [(0, 4), 0, -1.0, False, (0, 4)], [(0, 4), 1, -1.0, False, (0, 4)], [(0, 4), 3, -1.0, False, (0, 3)], [(0, 3), 3, -1.0, False, (0, 2)], [(0, 2), 1, -1.0, False, (0, 3)], [(0, 3), 3, -1.0, False, (0, 2)], [(0, 2), 0, -1.0, False, (0, 2)], [(0, 2), 2, -1.0, False, (0, 2)], [(0, 2), 3, -1.0, False, (0, 1)], [(0, 1), 0, -1.0, False, (0, 1)], [(0, 1), 2, -1.0, False, (1, 1)], [(1, 1), 3, -1.0, False, (1, 1)], [(1, 1), 0, -1.0, False, (0, 1)], [(0, 1), 0, -1.0, False, (0, 1)], [(0, 1), 1, -1.0, False, (0, 2)], [(0, 2), 1, -1.0, False, (0, 3)], [(0, 3), 1, -1.0, False, (0, 4)], [(0, 4), 2, -1.0, False, (1, 4)], [(1, 4), 3, -1.0, False, (1, 4)], [(1, 4), 0, -1.0, False, (0, 4)], [(0, 4), 3, -1.0, False, (0, 3)], [(0, 3), 3, -1.0, False, (0, 2)], [(0, 2), 1, -1.0, False, (0, 3)], [(0, 3), 0, -1.0, False, (0, 3)], [(0, 3), 3, -1.0, False, (0, 2)], [(0, 2), 2, -1.0, False, (0, 2)], [(0, 2), 1, -1.0, False, (0, 3)], [(0, 3), 2, -1.0, False, (1, 3)], [(1, 3), 1, -1.0, False, (1, 3)], [(1, 3), 0, -1.0, False, (0, 3)], [(0, 3), 3, -1.0, False, (0, 2)], [(0, 2), 0, -1.0, False, (0, 2)], [(0, 2), 0, -1.0, False, (0, 2)], [(0, 2), 3, -1.0, False, (0, 1)], [(0, 1), 1, -1.0, False, (0, 2)], [(0, 2), 1, -1.0, False, (0, 3)], [(0, 3), 1, -1.0, False, (0, 4)], [(0, 4), 3, -1.0, False, (0, 3)], [(0, 3), 3, -1.0, False, (0, 2)], [(0, 2), 3, -1.0, False, (0, 1)], [(0, 1), 3, -1.0, False, (0, 0)], [(0, 0), 3, -1.0, False, (0, 0)], [(0, 0), 1, -1.0, False, (0, 1)], [(0, 1), 2, -1.0, False, (1, 1)], [(1, 1), 0, -1.0, False, (0, 1)], [(0, 1), 1, -1.0, False, (0, 2)], [(0, 2), 1, -1.0, False, (0, 3)], [(0, 3), 2, -1.0, False, (1, 3)], [(1, 3), 0, -1.0, False, (0, 3)], [(0, 3), 2, -1.0, False, (1, 3)], [(1, 3), 0, -1.0, False, (0, 3)], [(0, 3), 3, -1.0, False, (0, 2)], [(0, 2), 2, -1.0, False, (0, 2)], [(0, 2), 2, -1.0, False, (0, 2)], [(0, 2), 0, -1.0, False, (0, 2)], [(0, 2), 2, -1.0, False, (0, 2)], [(0, 2), 2, -1.0, False, (0, 2)], [(0, 2), 2, -1.0, False, (0, 2)], [(0, 2), 3, -1.0, False, (0, 1)], [(0, 1), 3, -1.0, False, (0, 0)], [(0, 0), 3, -1.0, False, (0, 0)], [(0, 0), 1, -1.0, False, (0, 1)], [(0, 1), 3, -1.0, False, (0, 0)], [(0, 0), 3, -1.0, False, (0, 0)], [(0, 0), 1, -1.0, False, (0, 1)], [(0, 1), 2, -1.0, False, (1, 1)], [(1, 1), 2, -1.0, False, (2, 1)], [(2, 1), 2, -1.0, False, (3, 1)], [(3, 1), 0, -1.0, False, (2, 1)], [(2, 1), 3, -1.0, False, (2, 1)], [(2, 1), 2, -1.0, False, (3, 1)], [(3, 1), 0, -1.0, False, (2, 1)], [(2, 1), 1, -1.0, False, (2, 1)], [(2, 1), 2, -1.0, False, (3, 1)], [(3, 1), 2, -1.0, False, (3, 1)], [(3, 1), 0, -1.0, False, (2, 1)], [(2, 1), 0, -1.0, False, (1, 1)], [(1, 1), 1, -1.0, False, (1, 1)], [(1, 1), 1, -1.0, False, (1, 1)], [(1, 1), 3, -1.0, False, (1, 1)], [(1, 1), 2, -1.0, False, (2, 1)], [(2, 1), 0, -1.0, False, (1, 1)], [(1, 1), 3, -1.0, False, (1, 1)], [(1, 1), 2, -1.0, False, (2, 1)], [(2, 1), 1, -1.0, False, (2, 1)], [(2, 1), 1, -1.0, False, (2, 1)], [(2, 1), 1, -1.0, False, (2, 1)], [(2, 1), 0, -1.0, False, (1, 1)], [(1, 1), 0, -1.0, False, (0, 1)], [(0, 1), 2, -1.0, False, (1, 1)], [(1, 1), 3, -1.0, False, (1, 1)], [(1, 1), 0, -1.0, False, (0, 1)], [(0, 1), 2, -1.0, False, (1, 1)], [(1, 1), 0, -1.0, False, (0, 1)], [(0, 1), 1, -1.0, False, (0, 2)], [(0, 2), 0, -1.0, False, (0, 2)], [(0, 2), 0, -1.0, False, (0, 2)], [(0, 2), 1, -1.0, False, (0, 3)], [(0, 3), 0, -1.0, False, (0, 3)], [(0, 3), 0, -1.0, False, (0, 3)], [(0, 3), 1, -1.0, False, (0, 4)], [(0, 4), 3, -1.0, False, (0, 3)], [(0, 3), 0, -1.0, False, (0, 3)], [(0, 3), 3, -1.0, False, (0, 2)], [(0, 2), 3, -1.0, False, (0, 1)], [(0, 1), 1, -1.0, False, (0, 2)], [(0, 2), 3, -1.0, False, (0, 1)], [(0, 1), 0, -1.0, False, (0, 1)], [(0, 1), 3, -1.0, False, (0, 0)], [(0, 0), 2, -1.0, False, (1, 0)], [(1, 0), 1, -1.0, False, (1, 0)], [(1, 0), 2, -1.0, False, (2, 0)], [(2, 0), 0, -1.0, False, (1, 0)], [(1, 0), 0, -1.0, False, (0, 0)], [(0, 0), 1, -1.0, False, (0, 1)], [(0, 1), 0, -1.0, False, (0, 1)], [(0, 1), 2, -1.0, False, (1, 1)], [(1, 1), 1, -1.0, False, (1, 1)], [(1, 1), 1, -1.0, False, (1, 1)], [(1, 1), 0, -1.0, False, (0, 1)], [(0, 1), 0, -1.0, False, (0, 1)], [(0, 1), 3, -1.0, False, (0, 0)], [(0, 0), 2, -1.0, False, (1, 0)], [(1, 0), 2, -1.0, False, (2, 0)], [(2, 0), 1, -1.0, False, (2, 0)], [(2, 0), 3, -1.0, False, (2, 0)], [(2, 0), 1, -1.0, False, (2, 0)], [(2, 0), 3, -1.0, False, (2, 0)], [(2, 0), 3, -1.0, False, (2, 0)], [(2, 0), 2, -1.0, False, (3, 0)], [(3, 0), 2, -1.0, False, (4, 0)], [(4, 0), 3, -1.0, False, (4, 0)], [(4, 0), 0, -1.0, False, (3, 0)], [(3, 0), 2, -1.0, False, (4, 0)], [(4, 0), 2, -1.0, False, (4, 0)], [(4, 0), 0, -1.0, False, (3, 0)], [(3, 0), 3, -1.0, False, (3, 0)], [(3, 0), 1, -1.0, False, (3, 0)], [(3, 0), 3, -1.0, False, (3, 0)], [(3, 0), 3, -1.0, False, (3, 0)], [(3, 0), 3, -1.0, False, (3, 0)], [(3, 0), 3, -1.0, False, (3, 0)], [(3, 0), 2, -1.0, False, (4, 0)], [(4, 0), 3, -1.0, False, (4, 0)], [(4, 0), 1, -1.0, False, (4, 1)], [(4, 1), 3, -1.0, False, (4, 0)], [(4, 0), 0, -1.0, False, (3, 0)], [(3, 0), 0, -1.0, False, (2, 0)], [(2, 0), 1, -1.0, False, (2, 0)], [(2, 0), 3, -1.0, False, (2, 0)], [(2, 0), 3, -1.0, False, (2, 0)], [(2, 0), 0, -1.0, False, (1, 0)], [(1, 0), 2, -1.0, False, (2, 0)], [(2, 0), 3, -1.0, False, (2, 0)], [(2, 0), 3, -1.0, False, (2, 0)], [(2, 0), 3, -1.0, False, (2, 0)], [(2, 0), 1, -1.0, False, (2, 0)], [(2, 0), 0, -1.0, False, (1, 0)], [(1, 0), 2, -1.0, False, (2, 0)], [(2, 0), 1, -1.0, False, (2, 0)], [(2, 0), 0, -1.0, False, (1, 0)], [(1, 0), 1, -1.0, False, (1, 0)], [(1, 0), 1, -1.0, False, (1, 0)], [(1, 0), 2, -1.0, False, (2, 0)], [(2, 0), 0, -1.0, False, (1, 0)], [(1, 0), 0, -1.0, False, (0, 0)], [(0, 0), 3, -1.0, False, (0, 0)], [(0, 0), 3, -1.0, False, (0, 0)], [(0, 0), 1, -1.0, False, (0, 1)], [(0, 1), 3, -1.0, False, (0, 0)], [(0, 0), 0, -1.0, False, (0, 0)], [(0, 0), 2, -1.0, False, (1, 0)], [(1, 0), 2, -1.0, False, (2, 0)], [(2, 0), 1, -1.0, False, (2, 0)], [(2, 0), 0, -1.0, False, (1, 0)], [(1, 0), 1, -1.0, False, (1, 0)], [(1, 0), 0, -1.0, False, (0, 0)], [(0, 0), 0, -1.0, False, (0, 0)], [(0, 0), 2, -1.0, False, (1, 0)], [(1, 0), 3, -1.0, False, (1, 0)], [(1, 0), 0, -1.0, False, (0, 0)], [(0, 0), 0, -1.0, False, (0, 0)], [(0, 0), 2, -1.0, False, (1, 0)], [(1, 0), 0, -1.0, False, (0, 0)], [(0, 0), 3, -1.0, False, (0, 0)], [(0, 0), 3, -1.0, False, (0, 0)], [(0, 0), 0, -1.0, False, (0, 0)], [(0, 0), 2, -1.0, False, (1, 0)], [(1, 0), 1, -1.0, False, (1, 0)], [(1, 0), 0, -1.0, False, (0, 0)], [(0, 0), 2, -1.0, False, (1, 0)], [(1, 0), 0, -1.0, False, (0, 0)], [(0, 0), 3, -1.0, False, (0, 0)], [(0, 0), 0, -1.0, False, (0, 0)], [(0, 0), 1, -1.0, False, (0, 1)], [(0, 1), 3, -1.0, False, (0, 0)], [(0, 0), 2, -1.0, False, (1, 0)], [(1, 0), 3, -1.0, False, (1, 0)], [(1, 0), 0, -1.0, False, (0, 0)], [(0, 0), 2, -1.0, False, (1, 0)], [(1, 0), 0, -1.0, False, (0, 0)], [(0, 0), 2, -1.0, False, (1, 0)], [(1, 0), 1, -1.0, False, (1, 0)], [(1, 0), 2, -1.0, False, (2, 0)], [(2, 0), 1, -1.0, False, (2, 0)], [(2, 0), 1, -1.0, False, (2, 0)], [(2, 0), 2, -1.0, False, (3, 0)], [(3, 0), 1, -1.0, False, (3, 0)], [(3, 0), 1, -1.0, False, (3, 0)], [(3, 0), 3, -1.0, False, (3, 0)], [(3, 0), 3, -1.0, False, (3, 0)], [(3, 0), 1, -1.0, False, (3, 0)], [(3, 0), 0, -1.0, False, (2, 0)], [(2, 0), 2, -1.0, False, (3, 0)], [(3, 0), 1, -1.0, False, (3, 0)], [(3, 0), 3, -1.0, False, (3, 0)], [(3, 0), 0, -1.0, False, (2, 0)], [(2, 0), 1, -1.0, False, (2, 0)], [(2, 0), 2, -1.0, False, (3, 0)], [(3, 0), 2, -1.0, False, (4, 0)], [(4, 0), 2, -1.0, False, (4, 0)], [(4, 0), 3, -1.0, False, (4, 0)], [(4, 0), 0, -1.0, False, (3, 0)], [(3, 0), 0, -1.0, False, (2, 0)], [(2, 0), 0, -1.0, False, (1, 0)], [(1, 0), 0, -1.0, False, (0, 0)], [(0, 0), 3, -1.0, False, (0, 0)], [(0, 0), 3, -1.0, False, (0, 0)], [(0, 0), 2, -1.0, False, (1, 0)], [(1, 0), 3, -1.0, False, (1, 0)], [(1, 0), 3, -1.0, False, (1, 0)], [(1, 0), 3, -1.0, False, (1, 0)], [(1, 0), 3, -1.0, False, (1, 0)], [(1, 0), 1, -1.0, False, (1, 0)], [(1, 0), 3, -1.0, False, (1, 0)], [(1, 0), 1, -1.0, False, (1, 0)], [(1, 0), 1, -1.0, False, (1, 0)], [(1, 0), 2, -1.0, False, (2, 0)], [(2, 0), 0, -1.0, False, (1, 0)], [(1, 0), 1, -1.0, False, (1, 0)], [(1, 0), 3, -1.0, False, (1, 0)], [(1, 0), 3, -1.0, False, (1, 0)], [(1, 0), 3, -1.0, False, (1, 0)], [(1, 0), 3, -1.0, False, (1, 0)], [(1, 0), 1, -1.0, False, (1, 0)], [(1, 0), 0, -1.0, False, (0, 0)], [(0, 0), 3, -1.0, False, (0, 0)], [(0, 0), 2, -1.0, False, (1, 0)], [(1, 0), 0, -1.0, False, (0, 0)], [(0, 0), 3, -1.0, False, (0, 0)], [(0, 0), 3, -1.0, False, (0, 0)], [(0, 0), 0, -1.0, False, (0, 0)], [(0, 0), 3, -1.0, False, (0, 0)], [(0, 0), 2, -1.0, False, (1, 0)], [(1, 0), 0, -1.0, False, (0, 0)], [(0, 0), 0, -1.0, False, (0, 0)], [(0, 0), 2, -1.0, False, (1, 0)], [(1, 0), 1, -1.0, False, (1, 0)], [(1, 0), 0, -1.0, False, (0, 0)], [(0, 0), 2, -1.0, False, (1, 0)], [(1, 0), 3, -1.0, False, (1, 0)], [(1, 0), 1, -1.0, False, (1, 0)], [(1, 0), 3, -1.0, False, (1, 0)], [(1, 0), 0, -1.0, False, (0, 0)], [(0, 0), 1, -1.0, False, (0, 1)], [(0, 1), 2, -1.0, False, (1, 1)], [(1, 1), 1, -1.0, False, (1, 1)], [(1, 1), 2, -1.0, False, (2, 1)], [(2, 1), 2, -1.0, False, (3, 1)], [(3, 1), 3, -1.0, False, (3, 1)], [(3, 1), 2, -1.0, False, (3, 1)], [(3, 1), 1, -1.0, False, (3, 1)], [(3, 1), 3, -1.0, False, (3, 1)], [(3, 1), 1, -1.0, False, (3, 1)], [(3, 1), 3, -1.0, False, (3, 1)], [(3, 1), 0, -1.0, False, (2, 1)], [(2, 1), 0, -1.0, False, (1, 1)], [(1, 1), 0, -1.0, False, (0, 1)], [(0, 1), 0, -1.0, False, (0, 1)], [(0, 1), 2, -1.0, False, (1, 1)], [(1, 1), 1, -1.0, False, (1, 1)], [(1, 1), 2, -1.0, False, (2, 1)], [(2, 1), 3, -1.0, False, (2, 1)], [(2, 1), 1, -1.0, False, (2, 1)], [(2, 1), 3, -1.0, False, (2, 1)], [(2, 1), 0, -1.0, False, (1, 1)], [(1, 1), 0, -1.0, False, (0, 1)], [(0, 1), 1, -1.0, False, (0, 2)], [(0, 2), 1, -1.0, False, (0, 3)], [(0, 3), 2, -1.0, False, (1, 3)], [(1, 3), 1, -1.0, False, (1, 3)], [(1, 3), 1, -1.0, False, (1, 3)], [(1, 3), 1, -1.0, False, (1, 3)], [(1, 3), 3, -1.0, False, (1, 3)], [(1, 3), 1, -1.0, False, (1, 3)], [(1, 3), 1, -1.0, False, (1, 3)], [(1, 3), 2, -1.0, False, (2, 3)], [(2, 3), 3, -1.0, False, (2, 2)], [(2, 2), 1, -1.0, False, (2, 3)], [(2, 3), 2, -1.0, False, (2, 3)], [(2, 3), 2, -1.0, False, (2, 3)], [(2, 3), 3, -1.0, False, (2, 2)], [(2, 2), 0, -1.0, False, (1, 2)], [(1, 2), 2, -1.0, False, (2, 2)], [(2, 2), 1, -1.0, False, (2, 3)], [(2, 3), 3, -1.0, False, (2, 2)], [(2, 2), 2, -1.0, False, (2, 2)], [(2, 2), 2, -1.0, False, (2, 2)], [(2, 2), 3, -1.0, False, (2, 2)], [(2, 2), 1, -1.0, False, (2, 3)], [(2, 3), 1, -1.0, False, (2, 3)], [(2, 3), 3, -1.0, False, (2, 2)], [(2, 2), 1, -1.0, False, (2, 3)], [(2, 3), 0, -1.0, False, (1, 3)], [(1, 3), 2, -1.0, False, (2, 3)], [(2, 3), 3, -1.0, False, (2, 2)], [(2, 2), 3, -1.0, False, (2, 2)], [(2, 2), 2, -1.0, False, (2, 2)], [(2, 2), 0, -1.0, False, (1, 2)], [(1, 2), 1, -1.0, False, (1, 2)], [(1, 2), 1, -1.0, False, (1, 2)], [(1, 2), 1, -1.0, False, (1, 2)], [(1, 2), 0, -1.0, False, (1, 2)], [(1, 2), 3, -1.0, False, (1, 2)], [(1, 2), 0, -1.0, False, (1, 2)], [(1, 2), 2, -1.0, False, (2, 2)], [(2, 2), 2, -1.0, False, (2, 2)], [(2, 2), 3, -1.0, False, (2, 2)], [(2, 2), 1, -1.0, False, (2, 3)], [(2, 3), 2, -1.0, False, (2, 3)], [(2, 3), 3, -1.0, False, (2, 2)], [(2, 2), 1, -1.0, False, (2, 3)], [(2, 3), 2, -1.0, False, (2, 3)], [(2, 3), 1, -1.0, False, (2, 3)], [(2, 3), 2, -1.0, False, (2, 3)], [(2, 3), 2, -1.0, False, (2, 3)], [(2, 3), 3, -1.0, False, (2, 2)], [(2, 2), 0, -1.0, False, (1, 2)], [(1, 2), 0, -1.0, False, (1, 2)], [(1, 2), 2, -1.0, False, (2, 2)], [(2, 2), 1, -1.0, False, (2, 3)], [(2, 3), 0, -1.0, False, (1, 3)], [(1, 3), 0, -1.0, False, (0, 3)], [(0, 3), 1, -1.0, False, (0, 4)], [(0, 4), 3, -1.0, False, (0, 3)], [(0, 3), 1, -1.0, False, (0, 4)], [(0, 4), 2, -1.0, False, (1, 4)], [(1, 4), 0, -1.0, False, (0, 4)], [(0, 4), 1, -1.0, False, (0, 4)], [(0, 4), 0, -1.0, False, (0, 4)], [(0, 4), 3, -1.0, False, (0, 3)], [(0, 3), 3, -1.0, False, (0, 2)], [(0, 2), 2, -1.0, False, (0, 2)], [(0, 2), 1, -1.0, False, (0, 3)], [(0, 3), 0, -1.0, False, (0, 3)], [(0, 3), 1, -1.0, False, (0, 4)], [(0, 4), 1, -1.0, False, (0, 4)], [(0, 4), 1, -1.0, False, (0, 4)], [(0, 4), 0, -1.0, False, (0, 4)], [(0, 4), 0, -1.0, False, (0, 4)], [(0, 4), 3, -1.0, False, (0, 3)], [(0, 3), 2, -1.0, False, (1, 3)], [(1, 3), 0, -1.0, False, (0, 3)], [(0, 3), 2, -1.0, False, (1, 3)], [(1, 3), 3, -1.0, False, (1, 3)], [(1, 3), 3, -1.0, False, (1, 3)], [(1, 3), 1, -1.0, False, (1, 3)], [(1, 3), 3, -1.0, False, (1, 3)], [(1, 3), 1, -1.0, False, (1, 3)], [(1, 3), 3, -1.0, False, (1, 3)], [(1, 3), 3, -1.0, False, (1, 3)], [(1, 3), 1, -1.0, False, (1, 3)], [(1, 3), 0, -1.0, False, (0, 3)], [(0, 3), 0, -1.0, False, (0, 3)], [(0, 3), 0, -1.0, False, (0, 3)], [(0, 3), 0, -1.0, False, (0, 3)], [(0, 3), 2, -1.0, False, (1, 3)], [(1, 3), 0, -1.0, False, (0, 3)], [(0, 3), 3, -1.0, False, (0, 2)], [(0, 2), 0, -1.0, False, (0, 2)], [(0, 2), 3, -1.0, False, (0, 1)], [(0, 1), 0, -1.0, False, (0, 1)], [(0, 1), 2, -1.0, False, (1, 1)], [(1, 1), 2, -1.0, False, (2, 1)], [(2, 1), 0, -1.0, False, (1, 1)], [(1, 1), 0, -1.0, False, (0, 1)], [(0, 1), 0, -1.0, False, (0, 1)], [(0, 1), 3, -1.0, False, (0, 0)], [(0, 0), 2, -1.0, False, (1, 0)], [(1, 0), 2, -1.0, False, (2, 0)], [(2, 0), 0, -1.0, False, (1, 0)], [(1, 0), 3, -1.0, False, (1, 0)], [(1, 0), 3, -1.0, False, (1, 0)], [(1, 0), 2, -1.0, False, (2, 0)], [(2, 0), 2, -1.0, False, (3, 0)], [(3, 0), 3, -1.0, False, (3, 0)], [(3, 0), 3, -1.0, False, (3, 0)], [(3, 0), 3, -1.0, False, (3, 0)], [(3, 0), 2, -1.0, False, (4, 0)], [(4, 0), 3, -1.0, False, (4, 0)], [(4, 0), 2, -1.0, False, (4, 0)], [(4, 0), 0, -1.0, False, (3, 0)], [(3, 0), 2, -1.0, False, (4, 0)], [(4, 0), 3, -1.0, False, (4, 0)], [(4, 0), 2, -1.0, False, (4, 0)], [(4, 0), 1, -1.0, False, (4, 1)], [(4, 1), 2, -1.0, False, (4, 1)], [(4, 1), 1, -1.0, False, (4, 2)], [(4, 2), 0, -1.0, False, (3, 2)], [(3, 2), 1, -1.0, False, (3, 3)], [(3, 3), 2, -1.0, False, (4, 3)], [(4, 3), 0, -1.0, False, (3, 3)], [(3, 3), 1, -1.0, False, (3, 4)], [(3, 4), 0, -1.0, False, (3, 4)], [(3, 4), 2, -1.0, True, (4, 4)]]\n"
     ]
    }
   ],
   "source": [
    "env= Maze()\n",
    "state= env.reset()\n",
    "episode =[]\n",
    "done= False\n",
    "while not done:#did the same thing as above but in a while loop basically till the value of done is not True\n",
    "    action=env.action_space.sample()\n",
    "    next_state,reward,done,extra_info =env.step(action)\n",
    "    episode.append([state,action,reward,done,next_state])\n",
    "    state=next_state\n",
    "env.close()\n",
    "print(f\"COngrats! You just generated your first episode: \\n{episode}\")"
   ]
  },
  {
   "cell_type": "code",
   "execution_count": 20,
   "id": "3f887ead-06ae-43f5-8a26-75daad559bbc",
   "metadata": {},
   "outputs": [
    {
     "name": "stdout",
     "output_type": "stream",
     "text": [
      "We achieved a reward of -1.0 by taking action 0 in state (0, 0)\n"
     ]
    }
   ],
   "source": [
    "env = Maze()\n",
    "state = env.reset()\n",
    "action = env.action_space.sample()\n",
    "_, reward, _, _ = env.step(action)\n",
    "print(f\"We achieved a reward of {reward} by taking action {action} in state {state}\")#we are just selecting a random action and finding the reward for it"
   ]
  },
  {
   "cell_type": "code",
   "execution_count": 25,
   "id": "0a43b628-02fd-485b-924b-8250ced6c544",
   "metadata": {},
   "outputs": [
    {
     "name": "stdout",
     "output_type": "stream",
     "text": [
      "It took us 180 moves to find the exit,\n",
      "    and each reward r(s,a)=-1, so the return amounts to -83.61920302919114\n"
     ]
    }
   ],
   "source": [
    "env= Maze()\n",
    "state=env.reset()\n",
    "done=False\n",
    "gamma=0.99\n",
    "G_0=0\n",
    "t=0\n",
    "while not done:\n",
    "    action=env.action_space.sample()\n",
    "    _, reward, done, _=env.step(action)\n",
    "    G_0 += gamma** t * reward\n",
    "    t+=1\n",
    "env.close()\n",
    "print(\n",
    "    f\"\"\"It took us {t} moves to find the exit,\n",
    "    and each reward r(s,a)=-1, so the return amounts to {G_0}\"\"\")#we are just counting how many steps it took us to reach our goal and how much reward it recieved by finding the amount it returned\n"
   ]
  },
  {
   "cell_type": "code",
   "execution_count": null,
   "id": "e8be1bf4-7c2e-4175-980a-57c0ad946710",
   "metadata": {},
   "outputs": [],
   "source": []
  },
  {
   "cell_type": "code",
   "execution_count": null,
   "id": "c53d5ed1-c9f1-4bca-91eb-426b2fd9c133",
   "metadata": {},
   "outputs": [],
   "source": []
  }
 ],
 "metadata": {
  "kernelspec": {
   "display_name": "Python 3 (ipykernel)",
   "language": "python",
   "name": "python3"
  },
  "language_info": {
   "codemirror_mode": {
    "name": "ipython",
    "version": 3
   },
   "file_extension": ".py",
   "mimetype": "text/x-python",
   "name": "python",
   "nbconvert_exporter": "python",
   "pygments_lexer": "ipython3",
   "version": "3.8.0"
  }
 },
 "nbformat": 4,
 "nbformat_minor": 5
}
